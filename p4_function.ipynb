{
 "cells": [
  {
   "cell_type": "markdown",
   "metadata": {},
   "source": [
    "# 내장함수와 메서드  <br>\n",
    "### 내장함수  <br>\n",
    "print(), type(), int(), str(), len() 등  \n",
    "함수와 인수"
   ]
  },
  {
   "cell_type": "code",
   "execution_count": 1,
   "metadata": {},
   "outputs": [
    {
     "name": "stdout",
     "output_type": "stream",
     "text": [
      "6\n",
      "5\n"
     ]
    }
   ],
   "source": [
    "vege = \"potato\"\n",
    "n = [4, 5, 2, 7, 6]\n",
    "\n",
    "# 변수 vege의 오브젝트의 길이를 출력하세요\n",
    "print(len(vege))\n",
    "\n",
    "# 변수 n의 오브젝트의 길이를 출력하세요\n",
    "print(len(n))"
   ]
  },
  {
   "cell_type": "markdown",
   "metadata": {},
   "source": [
    "---  \n",
    "### 메서드<br>\n",
    "- 값.메서드명()  \n",
    "- 역할은 함수와 동일  \n",
    "- 함수와 마찬가지로 값의 자료형에 따라 사용할 수 있는 메서드가 다르다."
   ]
  },
  {
   "cell_type": "code",
   "execution_count": 2,
   "metadata": {},
   "outputs": [
    {
     "name": "stdout",
     "output_type": "stream",
     "text": [
      "['a', 'b', 'c', 'd', 'e', 'f']\n"
     ]
    }
   ],
   "source": [
    "# append의 복습\n",
    "alphabet = [\"a\",\"b\",\"c\",\"d\",\"e\"]\n",
    "alphabet.append(\"f\")\n",
    "print(alphabet)"
   ]
  },
  {
   "cell_type": "markdown",
   "metadata": {},
   "source": [
    "내장 함수 sorted() // 메서드 sort()"
   ]
  },
  {
   "cell_type": "code",
   "execution_count": 3,
   "metadata": {},
   "outputs": [
    {
     "name": "stdout",
     "output_type": "stream",
     "text": [
      "[1, 2, 3, 4, 5]\n",
      "[1, 5, 3, 4, 2]\n"
     ]
    }
   ],
   "source": [
    "# sorted 입니다\n",
    "number = [1,5,3,4,2]\n",
    "print(sorted(number))\n",
    "print(number)"
   ]
  },
  {
   "cell_type": "code",
   "execution_count": 4,
   "metadata": {},
   "outputs": [
    {
     "name": "stdout",
     "output_type": "stream",
     "text": [
      "[1, 2, 3, 4, 5]\n"
     ]
    }
   ],
   "source": [
    "# sort 입니다\n",
    "number = [1,5,3,4,2]\n",
    "number.sort()\n",
    "print(number)"
   ]
  },
  {
   "cell_type": "markdown",
   "metadata": {},
   "source": [
    "---  \n",
    "### 문자열형 메서드(upper, count, format)<br>\n",
    "- upper() : 모든 문자열 대문자로 반환 // 변수.upper()  \n",
    "- count() : () 안에 들어있는 문자열에 요소가 몇 개 인지 반환 // 변수.count(\"객체\")  \n",
    "- format()"
   ]
  },
  {
   "cell_type": "code",
   "execution_count": 5,
   "metadata": {},
   "outputs": [
    {
     "name": "stdout",
     "output_type": "stream",
     "text": [
      "elephant\n",
      "ELEPHANT\n",
      "2\n"
     ]
    }
   ],
   "source": [
    "animal = \"elephant\"\n",
    "\n",
    "# 변수 animal_big에는 변수 animal의 문자열을 대문자로 만들어 저장하세요\n",
    "animal_big = animal.upper() \n",
    "print(animal)\n",
    "print(animal_big)\n",
    "\n",
    "# 변수 animal에 'e'가 몇 개 포함되어 있는지 출력하세요\n",
    "print(animal.count(\"e\"))"
   ]
  },
  {
   "cell_type": "code",
   "execution_count": 6,
   "metadata": {},
   "outputs": [
    {
     "name": "stdout",
     "output_type": "stream",
     "text": [
      "서울에서 태어나 광명시에서 유년기를 보냈습니다\n"
     ]
    }
   ],
   "source": [
    "print(\"{}에서 태어나 {}에서 유년기를 보냈습니다\".format(\"서울\", \"광명시\"))"
   ]
  },
  {
   "cell_type": "code",
   "execution_count": 7,
   "metadata": {},
   "outputs": [
    {
     "name": "stdout",
     "output_type": "stream",
     "text": [
      "banana는 yellow입니다\n"
     ]
    }
   ],
   "source": [
    "fruit = \"banana\"\n",
    "color = \"yellow\"\n",
    "\n",
    "# \"banana는 yellow입니다\"라고 출력하세요\n",
    "print(\"{}는 {}입니다\".format(fruit, color))"
   ]
  },
  {
   "cell_type": "markdown",
   "metadata": {},
   "source": [
    "---  \n",
    "### 문자열 포맷 지정<br>\n",
    "- format() , % 연산자 사용  \n",
    "- %d : 정수로 표시\n",
    "- %f : 소수로 표시\n",
    "- %.2f : 소수점 이하 두 자리까지 표시\n",
    "- %s : 문자열로 표시"
   ]
  },
  {
   "cell_type": "code",
   "execution_count": 32,
   "metadata": {},
   "outputs": [
    {
     "name": "stdout",
     "output_type": "stream",
     "text": [
      "원주율은 3.141592\n",
      "원주율은 3.14\n"
     ]
    }
   ],
   "source": [
    "pai = 3.141592\n",
    "print(\"원주율은 %f\" % pai)\n",
    "print(\"원주율은 %.2f\" % pai)"
   ]
  },
  {
   "cell_type": "code",
   "execution_count": 33,
   "metadata": {},
   "outputs": [
    {
     "name": "stdout",
     "output_type": "stream",
     "text": [
      "bmi는 23.8751입니다\n"
     ]
    }
   ],
   "source": [
    "def bmi(height, weight):\n",
    "    return weight / height**2\n",
    "\n",
    "# \"bmi는 **입니다\"라고 출력시켜주세요\n",
    "print(\"bmi는 %.4f입니다\" % bmi(1.65, 65))"
   ]
  },
  {
   "cell_type": "markdown",
   "metadata": {},
   "source": [
    "---  \n",
    "### List형 메서드(index, sort, reverse)<br>\n",
    "- index()\n",
    "- sort()"
   ]
  },
  {
   "cell_type": "code",
   "execution_count": 8,
   "metadata": {},
   "outputs": [
    {
     "name": "stdout",
     "output_type": "stream",
     "text": [
      "5\n",
      "3\n"
     ]
    }
   ],
   "source": [
    "n = [3, 6, 8, 6, 3, 2, 4, 6]\n",
    "\n",
    "# \"2\"의 인덱스 번호를 출력하세요\n",
    "print(n.index(2))\n",
    "\n",
    "# 변수 n에 \"6\"이 몇 개 있는지 출력하세요\n",
    "print(n.count(6))"
   ]
  },
  {
   "cell_type": "code",
   "execution_count": 9,
   "metadata": {},
   "outputs": [
    {
     "name": "stdout",
     "output_type": "stream",
     "text": [
      "[2, 24, 26, 37, 53, 69]\n",
      "[69, 53, 37, 26, 24, 2]\n"
     ]
    }
   ],
   "source": [
    "n = [53, 26, 37, 69, 24, 2]\n",
    "\n",
    "# n을 정렬하여 오름차순으로 출력하세요\n",
    "n.sort()\n",
    "print(n)\n",
    "\n",
    "# n의 순서를 반대로 하여, 내림차순으로 출력하세요\n",
    "n.reverse()\n",
    "print(n)"
   ]
  },
  {
   "cell_type": "markdown",
   "metadata": {},
   "source": [
    "---  \n",
    "# 함수<br>\n",
    "- def 함수명(인수):"
   ]
  },
  {
   "cell_type": "code",
   "execution_count": 13,
   "metadata": {},
   "outputs": [
    {
     "name": "stdout",
     "output_type": "stream",
     "text": [
      "홍길동입니다\n",
      "홍길동입니다\n"
     ]
    }
   ],
   "source": [
    "# \"홍길동입니다\"라고 출력하는 함수 introduce를 작성하세요\n",
    "def introduce():\n",
    "    print(\"홍길동입니다\")\n",
    "\n",
    "introduce()\n",
    "\n",
    "def introduce2(n):\n",
    "    print(n + \"입니다\")\n",
    "\n",
    "introduce2(\"홍길동\")\n"
   ]
  },
  {
   "cell_type": "code",
   "execution_count": 14,
   "metadata": {},
   "outputs": [
    {
     "name": "stdout",
     "output_type": "stream",
     "text": [
      "홍길동입니다. 18살입니다.\n"
     ]
    }
   ],
   "source": [
    "# 함수 introduce를 만드세요\n",
    "def introduce(n, age):\n",
    "    print(n + \"입니다. \"+ str (age) + \"살입니다.\")\n",
    "\n",
    "# 함수를 호출하세요\n",
    "introduce(\"홍길동\", 18)"
   ]
  },
  {
   "cell_type": "markdown",
   "metadata": {},
   "source": [
    "### 인수의 초기값 설정"
   ]
  },
  {
   "cell_type": "code",
   "execution_count": 15,
   "metadata": {},
   "outputs": [
    {
     "name": "stdout",
     "output_type": "stream",
     "text": [
      "성은 홍이고, 이름은 길동입니다.\n"
     ]
    }
   ],
   "source": [
    "def introduce(first = \"김\", second = \"길동\"):\n",
    "    print(\"성은 \" + first + \"이고, 이름은 \" + second + \"입니다.\")\n",
    "\n",
    "introduce(\"홍\")"
   ]
  },
  {
   "cell_type": "code",
   "execution_count": 18,
   "metadata": {},
   "outputs": [
    {
     "name": "stdout",
     "output_type": "stream",
     "text": [
      "성은 홍이고, 이름은 길동입니다.\n",
      "성은 이고, 이름은 길동입니다.\n"
     ]
    }
   ],
   "source": [
    "def introduce(first, second = \"길동\"):\n",
    "    print(\"성은 \" + first + \"이고, 이름은 \" + second + \"입니다.\")\n",
    "\n",
    "introduce(\"홍\")"
   ]
  },
  {
   "cell_type": "code",
   "execution_count": 23,
   "metadata": {},
   "outputs": [
    {
     "ename": "SyntaxError",
     "evalue": "non-default argument follows default argument (<ipython-input-23-ed81f90e83b3>, line 3)",
     "output_type": "error",
     "traceback": [
      "\u001b[1;36m  File \u001b[1;32m\"<ipython-input-23-ed81f90e83b3>\"\u001b[1;36m, line \u001b[1;32m3\u001b[0m\n\u001b[1;33m    def introduce(first = \"홍\", second):\u001b[0m\n\u001b[1;37m                 ^\u001b[0m\n\u001b[1;31mSyntaxError\u001b[0m\u001b[1;31m:\u001b[0m non-default argument follows default argument\n"
     ]
    }
   ],
   "source": [
    "# 초기값이 설정된 인수 뒤에는 초기값이 설정되지 않은 인수는 둘 수 없다.\n",
    "\n",
    "def introduce(first = \"홍\", second):\n",
    "    print(\"성은 \" + first + \"이고, 이름은 \" + second + \"입니다.\")"
   ]
  },
  {
   "cell_type": "code",
   "execution_count": 25,
   "metadata": {},
   "outputs": [
    {
     "name": "stdout",
     "output_type": "stream",
     "text": [
      "홍길동입니다. 18살입니다.\n"
     ]
    }
   ],
   "source": [
    "# 초기값을 설정하세요\n",
    "def introduce(age, n = \"홍길동\"):\n",
    "    print(n + \"입니다. \" + str(age) + \"살입니다.\")\n",
    "\n",
    "# 함수를 호출합니다\n",
    "introduce(18)"
   ]
  },
  {
   "cell_type": "markdown",
   "metadata": {},
   "source": [
    "---  \n",
    "### return  <br>\n",
    "- return 반환값"
   ]
  },
  {
   "cell_type": "code",
   "execution_count": 28,
   "metadata": {},
   "outputs": [
    {
     "name": "stdout",
     "output_type": "stream",
     "text": [
      "성은 홍이고, 이름은 길동입니다.\n"
     ]
    }
   ],
   "source": [
    "def introduce(first = \"김\", second = \"길동\"):\n",
    "    comment = \"성은 \" + first + \"이고, 이름은 \" + second + \"입니다.\"\n",
    "    return comment\n",
    "\n",
    "print(introduce(\"홍\"))"
   ]
  },
  {
   "cell_type": "code",
   "execution_count": 29,
   "metadata": {},
   "outputs": [
    {
     "name": "stdout",
     "output_type": "stream",
     "text": [
      "23.875114784205696\n"
     ]
    }
   ],
   "source": [
    "# bmi을 계산하는 함수를 만들고, bmi를 반환 값으로 만드세요\n",
    "def bmi(height, weight):\n",
    "    return weight / height**2 \n",
    "\n",
    "print(bmi(1.65, 65))"
   ]
  },
  {
   "cell_type": "markdown",
   "metadata": {},
   "source": [
    "---  \n",
    "### 함수 임포트(가져오기)<br>\n",
    "- time 패키지 import 하기"
   ]
  },
  {
   "cell_type": "code",
   "execution_count": 30,
   "metadata": {},
   "outputs": [
    {
     "name": "stdout",
     "output_type": "stream",
     "text": [
      "1593418947.948679\n"
     ]
    }
   ],
   "source": [
    "# time 패키지를 import\n",
    "import time\n",
    "\n",
    "# time() 모듈을 사용, 현재 시간을 now_time에 대입.\n",
    "now_time = time.time()\n",
    "\n",
    "# 출력\n",
    "print(now_time)"
   ]
  },
  {
   "cell_type": "markdown",
   "metadata": {},
   "source": [
    "' from 패키지명 import 모듈명 ' 으로 모듈을 import 하면, 모듈명만으로 모듈을 사용 가능"
   ]
  },
  {
   "cell_type": "code",
   "execution_count": 31,
   "metadata": {},
   "outputs": [
    {
     "name": "stdout",
     "output_type": "stream",
     "text": [
      "1593419048.95747\n"
     ]
    }
   ],
   "source": [
    "from time import time\n",
    "\n",
    "# 패키지명 생략\n",
    "now_time = time()\n",
    "print(now_time)"
   ]
  }
 ],
 "metadata": {
  "kernelspec": {
   "display_name": "Python 3",
   "language": "python",
   "name": "python3"
  },
  "language_info": {
   "codemirror_mode": {
    "name": "ipython",
    "version": 3
   },
   "file_extension": ".py",
   "mimetype": "text/x-python",
   "name": "python",
   "nbconvert_exporter": "python",
   "pygments_lexer": "ipython3",
   "version": "3.7.6"
  }
 },
 "nbformat": 4,
 "nbformat_minor": 4
}
