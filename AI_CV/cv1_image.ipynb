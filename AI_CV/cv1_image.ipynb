{
 "cells": [
  {
   "cell_type": "markdown",
   "metadata": {},
   "source": [
    "## 1. 이미지 가공하기<br>\n",
    "OpenCV 에서 많이 사용되는"
   ]
  },
  {
   "cell_type": "code",
   "execution_count": 1,
   "metadata": {},
   "outputs": [],
   "source": [
    "import cv2\n",
    "import numpy as np"
   ]
  },
  {
   "cell_type": "code",
   "execution_count": 2,
   "metadata": {},
   "outputs": [
    {
     "name": "stdout",
     "output_type": "stream",
     "text": [
      "width가로: 653 pixels\n",
      "height세로: 653 pixels\n",
      "channels채널: 3\n"
     ]
    }
   ],
   "source": [
    "img = cv2.imread('./source/nomadProgramerIcon.png')\n",
    "print('width가로: {} pixels'.format(img.shape[1]))\n",
    "print('height세로: {} pixels'.format(img.shape[0]))\n",
    "print('channels채널: {}'.format(img.shape[2]))"
   ]
  },
  {
   "cell_type": "code",
   "execution_count": 3,
   "metadata": {},
   "outputs": [],
   "source": [
    "cv2.imshow('nomadprogramer', img)"
   ]
  },
  {
   "cell_type": "code",
   "execution_count": 4,
   "metadata": {},
   "outputs": [],
   "source": [
    "cv2.waitKey(0)\n",
    "cv2.imwrite('nomadProgramerIcon.jpg', img)\n",
    "cv2.destroyAllWindows()"
   ]
  },
  {
   "cell_type": "markdown",
   "metadata": {},
   "source": [
    "RGB로 여러가지 색깔을 표현해준다."
   ]
  },
  {
   "cell_type": "markdown",
   "metadata": {},
   "source": [
    "## 1-2. 이미지에 그리기<br>\n",
    "OpenCV는 BGR 형식으로 가져오게 된다"
   ]
  },
  {
   "cell_type": "code",
   "execution_count": 5,
   "metadata": {},
   "outputs": [
    {
     "name": "stdout",
     "output_type": "stream",
     "text": [
      "Pixel at (0, 0) - Red: 235, Grean: 250, Blue: 247\n"
     ]
    }
   ],
   "source": [
    "(b, g, r) = img[0, 0]\n",
    "print('Pixel at (0, 0) - Red: {}, Grean: {}, Blue: {}'.format(r,g,b))"
   ]
  },
  {
   "cell_type": "code",
   "execution_count": 6,
   "metadata": {},
   "outputs": [],
   "source": [
    "dot = img[50:100, 50:100]\n",
    "# cv2.imshow('Dot', dot)\n",
    "\n",
    "img[50:100, 50:100] = (0, 0, 255)    # red 값으로 채우세요\n",
    "\n",
    "cv2.rectangle(img, (150, 50), (200, 100), (0, 255, 0), 5) # rectangle을 그려주는 opencv함수\n",
    "cv2.circle(img, (275, 75), 25, (0, 255, 255), -1)         # 위치는 275에 75 / 반지름이 25 / -1은 전체가 다 채워진다\n",
    "cv2.line(img, (350, 100), (400, 100), (255, 0, 0), 5)     # 선이 하나 그려졌다\n",
    "# putText 함수 (시작 위치, font 여러가지 지정가능, font 크기, 색상, font의 굵기)\n",
    "cv2.putText(img, 'creApple', (450, 100), cv2.FONT_HERSHEY_SIMPLEX, 1, (255, 255, 255), 4)\n",
    "\n",
    "cv2.imshow('nomadProgramer - draw', img)\n",
    "\n",
    "cv2.waitKey(0)\n",
    "cv2.destroyAllWindows()"
   ]
  },
  {
   "cell_type": "markdown",
   "metadata": {},
   "source": [
    "## 1-3. 이미지 변형하기<br>\n",
    "이미지 프로세싱"
   ]
  },
  {
   "cell_type": "markdown",
   "metadata": {},
   "source": [
    "### 이미지 이동"
   ]
  },
  {
   "cell_type": "code",
   "execution_count": 7,
   "metadata": {},
   "outputs": [],
   "source": [
    "# 이미지의 높이 넓이 중간값을 알 수 있다\n",
    "(height, width) = img.shape[:2] # 0 값을 h , 1 값을 w\n",
    "center = (width // 2, height // 2) # width를 int 값으로 나눈다\n",
    "\n",
    "cv2.imshow('nomadProgramer', img)\n",
    "\n",
    "# move\n",
    "move = np.float32([[1, 0, 100], [0, 1, 100]]) # (1, 0) 좌우 움직임, / (0, 1) 상하 움직임 양수 up 음수 down\n",
    "moved = cv2.warpAffine(img, move, (width, height))\n",
    "cv2.imshow('Moved down: +, up: - and right: +, left - ', moved)\n",
    "\n",
    "cv2.waitKey(0)\n",
    "cv2.destroyAllWindows()"
   ]
  },
  {
   "cell_type": "markdown",
   "metadata": {},
   "source": [
    "### 이미지 회전"
   ]
  },
  {
   "cell_type": "code",
   "execution_count": 8,
   "metadata": {},
   "outputs": [],
   "source": [
    "# 이미지의 높이 넓이 중간값을 알 수 있다\n",
    "(height, width) = img.shape[:2] # 0 값을 h , 1 값을 w\n",
    "center = (width // 2, height // 2) # width를 int 값으로 나눈다\n",
    "\n",
    "cv2.imshow('nomadProgramer', img)\n",
    "\n",
    "# rotate (중앙값, 각도만큼 돌기, 스케일 값(1.0 기본값그대로))\n",
    "move = cv2.getRotationMatrix2D(center, -90, 1.0)\n",
    "rotated = cv2.warpAffine(img, move, (width, height))\n",
    "cv2.imshow('Rotated degrees', rotated)\n",
    "\n",
    "cv2.waitKey(0)\n",
    "cv2.destroyAllWindows()"
   ]
  },
  {
   "cell_type": "markdown",
   "metadata": {},
   "source": [
    "### 이미지 리사이즈"
   ]
  },
  {
   "cell_type": "code",
   "execution_count": 9,
   "metadata": {},
   "outputs": [],
   "source": [
    "# 이미지의 높이 넓이 중간값을 알 수 있다\n",
    "(height, width) = img.shape[:2] # 0 값을 h , 1 값을 w\n",
    "center = (width // 2, height // 2) # width를 int 값으로 나눈다\n",
    "\n",
    "cv2.imshow('nomadProgramer', img)\n",
    "\n",
    "# resize (200 픽셀의 / 653)\n",
    "ratio = 200.0 / width\n",
    "dimension = (200, int(height * ratio)) # 가로를 곱한..\n",
    "\n",
    "resized = cv2.resize(img, dimension, interpolation = cv2.INTER_AREA) # 영역 보간법 방식을 이용하면 좋은 결과를 얻을 수 있다고 한다 (이미지 확대시 인터 리니어, 축소의 경우 인터 큐빅.. 등이 있다)\n",
    "cv2.imshow('Resized', resized)\n",
    "\n",
    "cv2.waitKey(0)\n",
    "cv2.destroyAllWindows()"
   ]
  },
  {
   "cell_type": "markdown",
   "metadata": {},
   "source": [
    "### 이미지 대칭"
   ]
  },
  {
   "cell_type": "code",
   "execution_count": 10,
   "metadata": {},
   "outputs": [],
   "source": [
    "flipped = cv2.flip(img, -1)\n",
    "cv2.imshow('Flipped Horizontal 1, Vertical 0, both -1', flipped)\n",
    "\n",
    "cv2.waitKey(0)\n",
    "cv2.destroyAllWindows()"
   ]
  },
  {
   "cell_type": "markdown",
   "metadata": {},
   "source": [
    "## 1-4. 이미지 마스킹(Masking)<br>\n",
    "이미지에 마스크를 씌운다 (많이 사용되는 것)"
   ]
  },
  {
   "cell_type": "code",
   "execution_count": 15,
   "metadata": {},
   "outputs": [],
   "source": [
    "# 0 으로 모든 영역을 채우겠다\n",
    "mask = np.zeros(img.shape[:2], dtype = 'uint8')\n",
    "\n",
    "cv2.circle(mask, center, 200, (255, 255, 255), -1)\n",
    "\n",
    "cv2.imshow('mask', mask)\n",
    "\n",
    "# 비트와이즈 연산자를 사용해서 원과 사각형을 그리고 두가지의 공통적인 영역을 마스크화\n",
    "masked = cv2.bitwise_and(img, img, mask = mask) # img 2개니 전체를 대상으로 한다\n",
    "cv2.imshow('nomadprogramer with mask', masked)\n",
    "\n",
    "cv2.waitKey(0)\n",
    "cv2.destroyAllWindows()"
   ]
  },
  {
   "cell_type": "markdown",
   "metadata": {},
   "source": [
    "## 1-5. 이미지 채널(Channel) 조작<br>\n",
    "채널을 조작하고 관리하는 것"
   ]
  },
  {
   "cell_type": "code",
   "execution_count": 21,
   "metadata": {},
   "outputs": [],
   "source": [
    "cv2.imshow('nomadProgramer', img)\n",
    "\n",
    "(Blue, Green, Red) = cv2.split(img)\n",
    "\n",
    "# 기존 BGR 분리\n",
    "cv2.imshow('Red ch', Red)\n",
    "cv2.imshow('Green ch', Green)\n",
    "cv2.imshow('Blue ch', Blue)\n",
    "cv2.waitKey(0)\n",
    "\n",
    "# 이미지 사이즈 만큼 np.zeros 해당 색 외에 다 검정으로\n",
    "zeros = np.zeros(img.shape[:2], dtype = 'uint8')\n",
    "cv2.imshow('Red', cv2.merge([zeros, zeros, Red]))\n",
    "cv2.imshow('Green', cv2.merge([zeros, Green, zeros]))\n",
    "cv2.imshow('Blue', cv2.merge([Blue, zeros, zeros]))\n",
    "cv2.waitKey(0)\n",
    "\n",
    "# 필터 적용\n",
    "gray = cv2.cvtColor(img, cv2.COLOR_BGR2GRAY)\n",
    "cv2.imshow('Gray Fillter', gray)\n",
    "hsv = cv2.cvtColor(img, cv2.COLOR_BGR2HSV)\n",
    "cv2.imshow('HSV Fillter', hsv)\n",
    "lab = cv2.cvtColor(img, cv2.COLOR_BGR2LAB)\n",
    "cv2.imshow('LAB Fillter', lab)\n",
    "cv2. waitKey(0)\n",
    "\n",
    "BGR = cv2.merge([Blue, Green, Red])\n",
    "cv2.imshow('Blue, Green and Red', BGR)\n",
    "\n",
    "cv2.waitKey(0)\n",
    "cv2.destroyAllWindows()"
   ]
  }
 ],
 "metadata": {
  "kernelspec": {
   "display_name": "Python 3",
   "language": "python",
   "name": "python3"
  },
  "language_info": {
   "codemirror_mode": {
    "name": "ipython",
    "version": 3
   },
   "file_extension": ".py",
   "mimetype": "text/x-python",
   "name": "python",
   "nbconvert_exporter": "python",
   "pygments_lexer": "ipython3",
   "version": "3.7.6"
  }
 },
 "nbformat": 4,
 "nbformat_minor": 4
}
