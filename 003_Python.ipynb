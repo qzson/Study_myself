{
 "cells": [
  {
   "cell_type": "markdown",
   "metadata": {},
   "source": [
    "# 리스트<br>\n",
    "### 리스트에서 리스트 추출 (슬라이스)  <br>\n",
    "\n",
    "`list[start:end]` : 인덱스번호 start 부터 end-1 까지의 리스트를 추출."
   ]
  },
  {
   "cell_type": "code",
   "execution_count": 12,
   "metadata": {},
   "outputs": [
    {
     "name": "stdout",
     "output_type": "stream",
     "text": [
      "['b', 'c', 'd', 'e']\n",
      "['b', 'c', 'd', 'e']\n",
      "f\n",
      "['a', 'b', 'c', 'd', 'e']\n",
      "['g', 'h', 'i', 'j']\n",
      "['a', 'b', 'c', 'd', 'e', 'f', 'g', 'h', 'i', 'j']\n",
      "['apple', 2, 'orange', 4, 'grape', 3, 'banana', 1]\n",
      "['apple', 2, 'orange', 4, 'grape', 3, 'banana', 1]\n"
     ]
    }
   ],
   "source": [
    "alphabet = [\"a\", \"b\", \"c\", \"d\", \"e\", \"f\", \"g\", \"h\", \"i\", \"j\"]\n",
    "print(alphabet[1:5])\n",
    "print(alphabet[1:-5])\n",
    "print(alphabet[-5])\n",
    "print(alphabet[:5])\n",
    "print(alphabet[6:])\n",
    "print(alphabet[0:20])\n",
    "\n",
    "chaos = [\"cat\", \"apple\", 2, \"orange\", 4, \"grape\", 3, \"banana\", 1,\n",
    "\"elephant\", \"dog\"]\n",
    "\n",
    "# chaos 리스트에서 [\"apple\", 2, \"orange\", 4, \"grape\", 3, \"banana\", 1] 리스트를 꺼내 변수 fruits에 저장하세요\n",
    "fruits = chaos[1:9] #chaos[1:-2]도 가능\n",
    "fruits1 = chaos[1:-2]\n",
    "\n",
    "# 변수 fruits을 출력\n",
    "print(fruits)\n",
    "print(fruits1)"
   ]
  },
  {
   "cell_type": "markdown",
   "metadata": {},
   "source": [
    "### 리스트 요소 갱신 및 추가  \n",
    "\n",
    "`list[인덱스 번호] = 값` : 인덱스 번호 요소 갱신 가능\n",
    "\n",
    "`list + list` 가능\n",
    "\n",
    "`list명.append(추가할 요소)` 로 추가 가능"
   ]
  },
  {
   "cell_type": "code",
   "execution_count": 15,
   "metadata": {},
   "outputs": [
    {
     "name": "stdout",
     "output_type": "stream",
     "text": [
      "['A', 'B', 'C', 'd', 'e']\n",
      "['A', 'B', 'C', 'd', 'e', 'f', 'g', 'h', 'i']\n"
     ]
    }
   ],
   "source": [
    "alphabet = [\"a\", \"b\", \"c\", \"d\", \"e\"]\n",
    "alphabet[0] = \"A\"\n",
    "alphabet[1:3] = [\"B\", \"C\"]\n",
    "print(alphabet)\n",
    "\n",
    "alphabet = alphabet + [\"f\"]\n",
    "alphabet += [\"g\",\"h\"]\n",
    "alphabet.append(\"i\")\n",
    "print(alphabet)"
   ]
  },
  {
   "cell_type": "markdown",
   "metadata": {},
   "source": [
    "### 리스트 요소 삭제  \n",
    "\n",
    "`del 리스트[인덱스 번호]`"
   ]
  },
  {
   "cell_type": "code",
   "execution_count": 16,
   "metadata": {},
   "outputs": [
    {
     "name": "stdout",
     "output_type": "stream",
     "text": [
      "['b', 'c']\n"
     ]
    }
   ],
   "source": [
    "alphabet = [\"a\", \"b\", \"c\", \"d\", \"e\"]\n",
    "del alphabet[3:]\n",
    "del alphabet[0]\n",
    "print(alphabet)"
   ]
  },
  {
   "cell_type": "markdown",
   "metadata": {},
   "source": [
    "### 리스트형 주의점  \n",
    "\n",
    "`y = x[:]` or `y = list(x)`로 대입한 변수의 원래 값이 변하지 않도록 설정 가능"
   ]
  },
  {
   "cell_type": "code",
   "execution_count": 22,
   "metadata": {},
   "outputs": [
    {
     "name": "stdout",
     "output_type": "stream",
     "text": [
      "['아', 'b', 'c']\n",
      "['아', 'b', 'c']\n",
      "['a', 'b', 'c']\n",
      "['잉', 'b', 'c']\n"
     ]
    }
   ],
   "source": [
    "# 그대로 사용 시,\n",
    "alphabet = [\"a\", \"b\", \"c\"]\n",
    "alphabet_copy = alphabet\n",
    "alphabet_copy[0] = \"아\"\n",
    "print(alphabet)\n",
    "print(alphabet_copy)\n",
    "\n",
    "# 지정 후 사용 시,\n",
    "alphabet = [\"a\", \"b\", \"c\"]\n",
    "# alphabet_copy = alphabet[:]\n",
    "alphabet_copy = list(alphabet)\n",
    "alphabet_copy[0] = \"잉\"\n",
    "print(alphabet)\n",
    "print(alphabet_copy)"
   ]
  },
  {
   "cell_type": "markdown",
   "metadata": {},
   "source": [
    "# 딕셔너리<br>  \n",
    "### 딕셔너리형<br>\n",
    "\n",
    "json(JaveScript Object Notation)과 비슷한 자료형  \n",
    "\n",
    "`{키1: 값1, 키2: 값2, ...}` 형태 문자열의 경우 따옴표(\")로 감싸줌"
   ]
  },
  {
   "cell_type": "code",
   "execution_count": 23,
   "metadata": {},
   "outputs": [
    {
     "name": "stdout",
     "output_type": "stream",
     "text": [
      "{'경기도': '수원', '서울': '중구'}\n",
      "<class 'dict'>\n"
     ]
    }
   ],
   "source": [
    "# 변수 town에 딕셔너리를 저장하세요\n",
    "town = {\"경기도\": \"수원\", \"서울\": \"중구\"} \n",
    "\n",
    "# town 출력\n",
    "print(town)\n",
    "# 형의 출력\n",
    "print(type(town))"
   ]
  },
  {
   "cell_type": "markdown",
   "metadata": {},
   "source": [
    "### 딕셔너리 요소 추출"
   ]
  },
  {
   "cell_type": "code",
   "execution_count": 24,
   "metadata": {},
   "outputs": [
    {
     "name": "stdout",
     "output_type": "stream",
     "text": [
      "Tokyo\n"
     ]
    }
   ],
   "source": [
    "dic ={\"Japan\": \"Tokyo\", \"Korea\": \"Soul\"}\n",
    "print(dic[\"Japan\"])"
   ]
  },
  {
   "cell_type": "code",
   "execution_count": 28,
   "metadata": {},
   "outputs": [
    {
     "name": "stdout",
     "output_type": "stream",
     "text": [
      "경기도의 중심 도시는 수원 입니다\n",
      "서울의 중심 도시는 중구 입니다\n"
     ]
    }
   ],
   "source": [
    "town = {\"경기도\": \"수원\", \"서울\": \"중구\"}\n",
    "\n",
    "# \"경기도의 중심 도시는 수원 입니다\"라고 출력\n",
    "print(\"경기도의 중심 도시는 \" + town[\"경기도\"] + \" 입니다\")\n",
    "\n",
    "# \"서울의 중심 도시는 중구 입니다\"라고 출력\n",
    "print(\"서울의 중심 도시는 \" + town[\"서울\"] + \" 입니다\")\n"
   ]
  },
  {
   "cell_type": "markdown",
   "metadata": {},
   "source": [
    "### 딕셔너리 갱신 및 추가<br>\n",
    "dic의 값 갱신 시 : `딕셔너리명[\"값을 갱신할 키\"] = 값`\n",
    "\n",
    "dic에 요소 추가 시 : `딕셔너리명[\"추가할 키\"] = 값`"
   ]
  },
  {
   "cell_type": "code",
   "execution_count": 30,
   "metadata": {},
   "outputs": [
    {
     "name": "stdout",
     "output_type": "stream",
     "text": [
      "{'아이치': 'aichi', '카나가와': 'Yokohama', '홋카이도': 'Sapporo'}\n",
      "{'아이치': 'Nagoya', '카나가와': 'Yokohama', '홋카이도': 'Sapporo'}\n"
     ]
    }
   ],
   "source": [
    "town = {\"아이치\": \"aichi\", \"카나가와\": \"Yokohama\"} \n",
    "\n",
    "# 키 \"Hokkaido\" 값 \"Sapporo\"를 추가하세요\n",
    "town[\"홋카이도\"] = \"Sapporo\" \n",
    "print(town)\n",
    "\n",
    "# 키 \"Aichi\"의 값을 \"Nagoya\"로 변경하세요\n",
    "town[\"아이치\"] = \"Nagoya\" \n",
    "print(town)"
   ]
  },
  {
   "cell_type": "markdown",
   "metadata": {},
   "source": [
    "### 딕셔너리 요소 삭제<br>\n",
    "\n",
    "`del 딕셔너리명[\"삭제할 키\"]`"
   ]
  },
  {
   "cell_type": "code",
   "execution_count": 34,
   "metadata": {},
   "outputs": [
    {
     "name": "stdout",
     "output_type": "stream",
     "text": [
      "{'카나가와': 'Yokohama', '홋카이도': 'Sapporo'}\n"
     ]
    }
   ],
   "source": [
    "town = { \"아이치\": \"aichi\", \"카나가와\": \"Yokohama\", \"홋카이도\": \"Sapporo\"}\n",
    "\n",
    "# 키가 \"아이치\"인 요소를 제거하세요\n",
    "del town[\"아이치\"]\n",
    "print(town)"
   ]
  }
 ],
 "metadata": {
  "kernelspec": {
   "display_name": "Python 3",
   "language": "python",
   "name": "python3"
  },
  "language_info": {
   "codemirror_mode": {
    "name": "ipython",
    "version": 3
   },
   "file_extension": ".py",
   "mimetype": "text/x-python",
   "name": "python",
   "nbconvert_exporter": "python",
   "pygments_lexer": "ipython3",
   "version": "3.7.6"
  }
 },
 "nbformat": 4,
 "nbformat_minor": 4
}
