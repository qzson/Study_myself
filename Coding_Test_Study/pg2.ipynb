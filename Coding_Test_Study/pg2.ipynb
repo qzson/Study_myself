{
 "cells": [
  {
   "cell_type": "markdown",
   "metadata": {},
   "source": [
    "## 크레인 인형뽑기 게임 [[link]](https://programmers.co.kr/learn/courses/30/lessons/64061?language=python3)<br>\n",
    "\n",
    "2019 KAKAO TEST<br>\n",
    "\n",
    "- 게임 화면의 격자의 상태가 담긴 2차원 배열 board와 인형을 집기 위해 크레인을 작동시킨 위치가 담긴 배열 moves가 매개변수로 주어질 때, 크레인을 모두 작동시킨 후 터트려져 사라진 인형의 개수를 return 하도록 solution 함수를 완성해주세요.\n",
    "- board 배열은 2차원 배열로 크기는 5 x 5 이상 30 x 30 이하입니다.\n",
    "    - 0은 빈 칸을 나타냅니다.\n",
    "    - 1 ~ 100의 각 숫자는 각기 다른 인형의 모양을 의미하며 같은 숫자는 같은 모양의 인형을 나타냅니다.\n",
    "- moves 배열의 크기는 1 이상 1,000 이하입니다.\n",
    "- moves 배열 각 원소들의 값은 1 이상이며 board 배열의 가로 크기 이하인 자연수입니다.\n"
   ]
  },
  {
   "cell_type": "code",
   "execution_count": 45,
   "metadata": {
    "tags": []
   },
   "outputs": [],
   "source": [
    "# 다른 우수 참가자 코드\n",
    "\n",
    "def sojuneed(board, moves):\n",
    "    stacklist = []\n",
    "    answer = 0\n",
    "\n",
    "    for i in moves:\n",
    "        for j in range(len(board)):\n",
    "            if board[j][i-1] != 0:\n",
    "                stacklist.append(board[j][i-1])\n",
    "                board[j][i-1] = 0\n",
    "\n",
    "                if len(stacklist) > 1:\n",
    "                    if stacklist[-1] == stacklist[-2]:\n",
    "                        stacklist.pop(-1)\n",
    "                        stacklist.pop(-1)\n",
    "                        answer += 2     \n",
    "                break\n",
    "    return answer"
   ]
  },
  {
   "cell_type": "code",
   "execution_count": 52,
   "metadata": {
    "tags": []
   },
   "outputs": [
    {
     "name": "stdout",
     "output_type": "stream",
     "text": [
      "len:  5\n",
      "range,len:  range(0, 5)\n",
      "\n",
      "터진 인형 개수:  4\n"
     ]
    }
   ],
   "source": [
    "# 20-07-01 프로그래머스 2 (2019 kakao)\n",
    "# 오늘은 어러우므로 정신건강 상, 이 것 하나만 진행할게요. (대신 제대로 분석해봤음)\n",
    "# 잘 모르는 게 있습니다. 보시고, 답변 가능하신분은 댓글 달아주심 감사드립니다.\n",
    "\n",
    "# 크레인 인형뽑기 게임\n",
    "\n",
    "# 입출력 예시\n",
    "board = [[0,0,0,0,0],[0,0,1,0,3],[0,2,5,0,1],[4,2,4,4,2],[3,5,1,3,1]]\n",
    "moves = [1,5,3,5,1,2,1,4]\n",
    "print(f'len: ', len(board))                 # 5\n",
    "print(f'range,len: ', range(len(board)))    # range(0, 5) = 0, 1, 2, 3, 4\n",
    "\n",
    "def sojuneed(board, moves):\n",
    "    stacklist = []      # 오른쪽 바구니\n",
    "    answer = 0\n",
    "\n",
    "# 크레인이 각 위치에서 인형을 집는 위치(index)\n",
    "    for i in moves:\n",
    "    # print(f'i:', i)\n",
    "\n",
    "# board의 위치(인덱스)\n",
    "        for j in range(len(board)):\n",
    "        # print(f'j:', j)\n",
    "\n",
    "# 0은 빈 칸 // 빈 칸이 아닐 경우, 집는다.\n",
    "            if board[j][i-1] != 0:\n",
    "\n",
    "# 해당 위치 인형을 바구니에 추가\n",
    "                stacklist.append(board[j][i-1])\n",
    "\n",
    "# 1* 이 부분의 코드는 무엇인지 모르겠다 - if 문이 작동하는 건가? (알려주실 분?)\n",
    "                board[j][i-1] = 0\n",
    "\n",
    "# 바구니에 들어있는 인형이 2개 이상이면,\n",
    "                if len(stacklist) > 1:\n",
    "\n",
    "# 해당 인형의 마지막 stack과 그 아래 stack이 같다면,\n",
    "                    if stacklist[-1] == stacklist[-2]:\n",
    "\n",
    "# pop 함수 : 리스트의 맨 마지막 요소를 출력하면서 그 요소를 해당 리스트에서 삭제한다. (인형 2개 터트리기)\n",
    "                        stacklist.pop(-1)\n",
    "                        stacklist.pop(-1)\n",
    "\n",
    "# 2* 여기서 answer를 왜 과정마다 2를 더해주는지 모르겠다 (알려주실 분?)\n",
    "                        answer += 2\n",
    "\n",
    "# 3* 여기서 break는 어떻게 작동하는 건가요 ?\n",
    "                break\n",
    "    return answer\n",
    "\n",
    "# 1,2,3* 질문사항 해결해주실분 구함\n",
    "\n",
    "print(f'\\n터진 인형 개수: ', sojuneed(board, moves))"
   ]
  }
 ],
 "metadata": {
  "kernelspec": {
   "display_name": "Python 3",
   "language": "python",
   "name": "python3"
  },
  "language_info": {
   "codemirror_mode": {
    "name": "ipython",
    "version": 3
   },
   "file_extension": ".py",
   "mimetype": "text/x-python",
   "name": "python",
   "nbconvert_exporter": "python",
   "pygments_lexer": "ipython3",
   "version": "3.7.6"
  }
 },
 "nbformat": 4,
 "nbformat_minor": 2
}
