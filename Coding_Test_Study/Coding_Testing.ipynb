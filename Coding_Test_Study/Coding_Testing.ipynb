{
 "cells": [
  {
   "cell_type": "markdown",
   "metadata": {},
   "source": [
    "# 코딩 테스트<br>\n",
    "### 같은 숫자는 싫어 [[Link]](https://programmers.co.kr/learn/courses/30/lessons/12906) <br>\n",
    "\n",
    "배열 arr가 주어집니다. 배열 arr의 각 원소는 숫자 0부터 9까지로 이루어져 있습니다. 이때, 배열 arr에서 연속적으로 나타나는 숫자는 하나만 남기고 전부 제거하려고 합니다.  \n",
    "단, 제거된 후 남은 수들을 반환할 때는 배열 arr의 원소들의 순서를 유지해야 합니다.  \n",
    "\n",
    "예를 들면,  \n",
    "arr = [1, 1, 3, 3, 0, 1, 1] 이면 [1, 3, 0, 1] 을 return 합니다.  \n",
    "arr = [4, 4, 4, 3, 3] 이면 [4, 3] 을 return 합니다.  \n",
    "배열 arr에서 연속적으로 나타나는 숫자는 제거하고 남은 수들을 return 하는 solution 함수를 완성해 주세요.  \n",
    "\n",
    "제한사항  \n",
    "배열 arr의 크기 : 1,000,000 이하의 자연수  \n",
    "배열 arr의 원소의 크기 : 0보다 크거나 같고 9보다 작거나 같은 정수  "
   ]
  },
  {
   "cell_type": "code",
   "execution_count": 1,
   "metadata": {},
   "outputs": [
    {
     "name": "stdout",
     "output_type": "stream",
     "text": [
      "['1', '3', '0', '3', '0', '5']\n"
     ]
    }
   ],
   "source": [
    "def solution(arr):\n",
    "    answer = []\n",
    "    for i in range(len(arr) - 1):\n",
    "        if arr[i+1] != arr[i]:\n",
    "            answer.append(arr[i])\n",
    "    answer.append(arr[-1])\n",
    "    return answer\n",
    "\n",
    "# test\n",
    "print( solution(\"13303055\"))"
   ]
  },
  {
   "cell_type": "code",
   "execution_count": 2,
   "metadata": {},
   "outputs": [
    {
     "name": "stdout",
     "output_type": "stream",
     "text": [
      "['1', '3', '0', '3', '0', '5']\n"
     ]
    }
   ],
   "source": [
    "def no_continuous(s):\n",
    "    a = []\n",
    "    for i in s:\n",
    "        if a[-1:] == [i]: continue\n",
    "        a.append(i)\n",
    "    return a\n",
    "\n",
    "print( no_continuous( \"13303055\" ))"
   ]
  },
  {
   "cell_type": "code",
   "execution_count": 3,
   "metadata": {},
   "outputs": [
    {
     "name": "stdout",
     "output_type": "stream",
     "text": [
      "['1', '3', '0', '3']\n"
     ]
    }
   ],
   "source": [
    "def no_continuous(s):\n",
    "    result = []\n",
    "    for c in s:\n",
    "        if (len(result) == 0) or (result[-1] != c):\n",
    "            result.append(c)\n",
    "    return result\n",
    "\n",
    "# 아래는 테스트로 출력해 보기 위한 코드입니다.\n",
    "print( no_continuous( \"133303\" ))"
   ]
  },
  {
   "cell_type": "code",
   "execution_count": 4,
   "metadata": {},
   "outputs": [
    {
     "name": "stdout",
     "output_type": "stream",
     "text": [
      "['1', '3', '0', '3']\n"
     ]
    }
   ],
   "source": [
    "def no_continuous(s):\n",
    "    # 함수를 완성하세요\n",
    "    return [s[i] for i in range(len(s)) if s[i] != s[i+1:i+2]]\n",
    "\n",
    "# 아래는 테스트로 출력해 보기 위한 코드입니다.\n",
    "print( no_continuous( \"133303\" ))"
   ]
  },
  {
   "cell_type": "markdown",
   "metadata": {},
   "source": [
    "---  \n",
    "### 수박수박수박수박수박수? [[Link]](https://programmers.co.kr/learn/courses/30/lessons/12922)<br>\n",
    "\n",
    "문제 설명\n",
    "\n",
    "길이가 n이고, 수박수박수박수....와 같은 패턴을 유지하는 문자열을 리턴하는 함수, solution을 완성하세요. 예를들어 n이 4이면 수박수박을 리턴하고 3이라면 수박수를 리턴하면 됩니다.\n",
    "\n",
    "제한 조건\n",
    "\n",
    "n은 길이 10,000이하인 자연수입니다."
   ]
  },
  {
   "cell_type": "code",
   "execution_count": 37,
   "metadata": {},
   "outputs": [
    {
     "name": "stdout",
     "output_type": "stream",
     "text": [
      "수박수박수\n"
     ]
    }
   ],
   "source": [
    "def JaeinMoon(n):\n",
    "    wm = '수박'\n",
    "    return wm * (n // 2) + wm[0] * (n % 2)\n",
    "print(JaeinMoon(5))"
   ]
  },
  {
   "cell_type": "code",
   "execution_count": 34,
   "metadata": {},
   "outputs": [
    {
     "name": "stdout",
     "output_type": "stream",
     "text": [
      "수박수박수\n"
     ]
    }
   ],
   "source": [
    "def ss(n):\n",
    "    ans = ''\n",
    "    for i in range(n):\n",
    "        if i%2 == 0:\n",
    "            ans += '수'\n",
    "        elif i%2 == 1:\n",
    "            ans += '박'\n",
    "    return ans\n",
    "\n",
    "print(ss(5))"
   ]
  },
  {
   "cell_type": "code",
   "execution_count": 36,
   "metadata": {},
   "outputs": [
    {
     "name": "stdout",
     "output_type": "stream",
     "text": [
      "수박수박수\n"
     ]
    }
   ],
   "source": [
    "def ss(n):\n",
    "    ans = ''\n",
    "    if n % 2 == 0:\n",
    "        ans = '수박' * (n//2)\n",
    "    else:\n",
    "        ans = '수박' * (n//2) + '수'\n",
    "    return ans\n",
    "\n",
    "print(ss(5))"
   ]
  },
  {
   "cell_type": "code",
   "execution_count": 38,
   "metadata": {},
   "outputs": [
    {
     "name": "stdout",
     "output_type": "stream",
     "text": [
      "수박수박\n"
     ]
    }
   ],
   "source": [
    "def ss(n):\n",
    "    s = '수박' * n\n",
    "    return s[:n]\n",
    "print(ss(4))"
   ]
  }
 ],
 "metadata": {
  "kernelspec": {
   "display_name": "Python 3",
   "language": "python",
   "name": "python3"
  },
  "language_info": {
   "codemirror_mode": {
    "name": "ipython",
    "version": 3
   },
   "file_extension": ".py",
   "mimetype": "text/x-python",
   "name": "python",
   "nbconvert_exporter": "python",
   "pygments_lexer": "ipython3",
   "version": "3.7.6"
  }
 },
 "nbformat": 4,
 "nbformat_minor": 4
}
