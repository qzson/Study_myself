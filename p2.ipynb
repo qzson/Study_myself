{
 "cells": [
  {
   "cell_type": "markdown",
   "metadata": {},
   "source": [
    "# 비교 연산자<br>\n",
    "### If<br>\n",
    "\n",
    "bool 자료형 (불리언 자료형)\n",
    "\n",
    "- True or False 중 하나의 값을 가진 자료형\n",
    "\n",
    "- int형일 경우 : True = 1, False = 0\n",
    "\n",
    "- 비교연산자일 경우 : '식 성립' = True, '성립 X' = False"
   ]
  },
  {
   "cell_type": "code",
   "execution_count": 1,
   "metadata": {},
   "outputs": [
    {
     "name": "stdout",
     "output_type": "stream",
     "text": [
      "False\n",
      "True\n"
     ]
    }
   ],
   "source": [
    "print(1 + 1 == 3)\n",
    "\n",
    "print(4 + 6 != -10)"
   ]
  },
  {
   "cell_type": "markdown",
   "metadata": {},
   "source": [
    "### if 문  <br>\n",
    "\n",
    "---"
   ]
  },
  {
   "cell_type": "code",
   "execution_count": 9,
   "metadata": {},
   "outputs": [
    {
     "name": "stdout",
     "output_type": "stream",
     "text": [
      "넌 2번째로 도착\n",
      "고양이가 귀엽네요.\n",
      "큰 숫자\n"
     ]
    }
   ],
   "source": [
    "n = 2\n",
    "if n == 2:\n",
    "    print('넌 ' + str(n) + \"번째로 도착\")\n",
    "\n",
    "animal = 'cat'\n",
    "if animal == 'cat':\n",
    "    print('고양이가 귀엽네요.')\n",
    "    \n",
    "n = 16\n",
    "if n > 15:\n",
    "    print('큰 숫자')\n",
    "    "
   ]
  },
  {
   "cell_type": "markdown",
   "metadata": {},
   "source": [
    "#### else  \n",
    "\n",
    "그렇지 않으면 ... 한다"
   ]
  },
  {
   "cell_type": "code",
   "execution_count": 14,
   "metadata": {},
   "outputs": [
    {
     "name": "stdout",
     "output_type": "stream",
     "text": [
      "당신은 2번째로 도착\n",
      "고양이\n",
      "14 은 15보다 작은 숫자\n"
     ]
    }
   ],
   "source": [
    "n = 2\n",
    "if n == 1:\n",
    "    print('우승')\n",
    "else:\n",
    "    print('당신은 ' + str(n) + '번째로 도착')\n",
    "    \n",
    "animal = 'cat'\n",
    "if animal == 'cat':\n",
    "    print('고양이')\n",
    "else:\n",
    "    print('고양이 아님')\n",
    "    \n",
    "n = 14\n",
    "if n > 15:\n",
    "    print('큰 숫자')\n",
    "else:\n",
    "    print(str(n) + ' 은 15보다 작은 숫자')"
   ]
  },
  {
   "cell_type": "markdown",
   "metadata": {},
   "source": [
    "#### elif  \n",
    "\n",
    "if 성립되지 않았을 경우 다른 조건 정의 하고 싶을 때 elif 사용"
   ]
  },
  {
   "cell_type": "code",
   "execution_count": 18,
   "metadata": {},
   "outputs": [
    {
     "name": "stdout",
     "output_type": "stream",
     "text": [
      "은메달\n",
      "중간 숫자\n"
     ]
    }
   ],
   "source": [
    "number = 2\n",
    "\n",
    "if number == 1:\n",
    "    print('금메달')\n",
    "elif number == 2:\n",
    "    print('은메달')\n",
    "elif number == 3:\n",
    "    print('동메달')\n",
    "else:\n",
    "    print('너는 ' + str(number) + '번째로 도착')\n",
    "    \n",
    "n = 14\n",
    "if n > 15:\n",
    "    print('큰 숫자')\n",
    "# elif 11 <= n <= 15:\n",
    "elif n >= 11:\n",
    "    print('중간 숫자')\n",
    "else:\n",
    "    print('작은 숫자')"
   ]
  },
  {
   "cell_type": "markdown",
   "metadata": {},
   "source": [
    "#### and, or, not  \n",
    "\n",
    "부울 연산자(boolean operator)  \n",
    "\n",
    "- and : (조건식 사이에 사용) 복수의 조건식이 모두 True 인 경우, True 반환.  \n",
    "\n",
    "- or : (조건식 사이에 사용) 복수의 조건식 중 하나라도 True 인 경우, True 반환.\n",
    "\n",
    "- not : (조건식 앞에 사용) 조건이 True 인 경우, False를 반환.<br>  \n",
    "\n",
    "\n",
    "    - 조건식 and 조건식\n",
    "    \n",
    "    - 조건식 or 조건식\n",
    "    \n",
    "    - not 조건식\n",
    "    \n",
    "    "
   ]
  },
  {
   "cell_type": "code",
   "execution_count": 33,
   "metadata": {},
   "outputs": [
    {
     "name": "stdout",
     "output_type": "stream",
     "text": [
      "False\n",
      "a는 196 // b는 140\n",
      "True\n",
      "True\n",
      "4\n"
     ]
    }
   ],
   "source": [
    "n_1 = 14\n",
    "n_2 = 28\n",
    "\n",
    "# n_1이 8보다 크고 14보다 작다는 조건식 생성, 결과 출력\n",
    "print(n_1 > 8 and n_1 < 14)\n",
    "\n",
    "# n_1의 제곱이 n_2의 다섯 배보다 작다는 조건식 생성, 결과를 반전시켜 출력\n",
    "a=n_1**2\n",
    "b=n_2*5\n",
    "print(f'a는 {a} // b는 {b}')\n",
    "print(not(n_1**2 < n_2*5))\n",
    "print(not n_1**2 < n_2*5)\n",
    "\n",
    "x1 = pow(y, 2)\n",
    "print(x1)"
   ]
  },
  {
   "cell_type": "markdown",
   "metadata": {},
   "source": [
    "##### 연도가 400으로 나누어떨어지지 않고, 100으로 나누어떨어지면, 윤년이 아닙니다(평년입니다).  <br>\n",
    "\n",
    "- 위와 같지 않을 때 연도가 4로 나누어 떨어지면 윤년입니다.\n",
    "\n",
    "- 윤년이 아닌 경우 평년입니다.\n",
    "\n",
    "- 윤년의 경우 '**년은 윤년입니다.' 라고 출력.\n",
    "\n",
    "- 평년의 경우 '**년은 평년입니다.' 라고 출력.\n",
    "\n"
   ]
  },
  {
   "cell_type": "code",
   "execution_count": 44,
   "metadata": {},
   "outputs": [
    {
     "name": "stdout",
     "output_type": "stream",
     "text": [
      "2000 년은 윤년입니다\n"
     ]
    }
   ],
   "source": [
    "# 변수 year에 연도를 입력\n",
    "year = 2000\n",
    "\n",
    "# if 문으로 조건 분기를 하고, 윤년과 평년을 판별\n",
    "if year % 400 != 0 and year % 100 == 0:\n",
    "    print(str(year) + ' 년은 윤년이 아닙니다(평년입니다)')\n",
    "elif year % 4 == 0:\n",
    "    print(str(year) + ' 년은 윤년입니다')\n",
    "else:\n",
    "    print(str(year) + ' 년은 평년입니다')"
   ]
  },
  {
   "cell_type": "markdown",
   "metadata": {},
   "source": [
    "# while 문<br>\n",
    "\n",
    "주어진 조건식이 False 가 될 때까지 처리를 반복(loop)할 수 있습니다.<br>\n",
    "\n",
    "조건식이 True 인 동안 while 문의 처리가 반복"
   ]
  },
  {
   "cell_type": "code",
   "execution_count": 45,
   "metadata": {},
   "outputs": [
    {
     "name": "stdout",
     "output_type": "stream",
     "text": [
      "2\n",
      "1\n"
     ]
    }
   ],
   "source": [
    "n = 2\n",
    "while n > 0:\n",
    "    print(n)\n",
    "    n -= 1"
   ]
  },
  {
   "cell_type": "code",
   "execution_count": 1,
   "metadata": {},
   "outputs": [
    {
     "name": "stdout",
     "output_type": "stream",
     "text": [
      "한빛\n",
      "한빛\n",
      "한빛\n"
     ]
    }
   ],
   "source": [
    "x = 5\n",
    "while x > 0:\n",
    "    print(\"한빛\")\n",
    "    x -= 2\n",
    "# x 값은 1회 순환 시마다 2씩 작아진다\n",
    "# x가 0보다 크면 루프가 계속된다"
   ]
  },
  {
   "cell_type": "markdown",
   "metadata": {},
   "source": [
    "- while 문을 사용, 변수 x가 0이 아닌 동안 반복하도록  \n",
    "- 반복문 안에서는 변수 x에서 1을 빼고, x값을 출력  \n",
    "- 출력은 print() 함수 사용  \n",
    "- 다음처럼 실행 결과가 나오도록  \n",
    "    4  \n",
    "    3  \n",
    "    2  \n",
    "    1  \n",
    "    0"
   ]
  },
  {
   "cell_type": "code",
   "execution_count": 4,
   "metadata": {},
   "outputs": [
    {
     "name": "stdout",
     "output_type": "stream",
     "text": [
      "4\n",
      "3\n",
      "2\n",
      "1\n",
      "0\n"
     ]
    }
   ],
   "source": [
    "x =  5\n",
    "\n",
    "# while을 사용하여 변수 x가 0이 아닐 동안 루프하도록 만들어주세요\n",
    "while x != 0:\n",
    "# 반복문 속에서 변수 x에서 1을 빼고, 출력합니다\n",
    "    x -= 1\n",
    "    print(x)"
   ]
  },
  {
   "cell_type": "markdown",
   "metadata": {},
   "source": [
    "### while 과 if<br>"
   ]
  },
  {
   "cell_type": "code",
   "execution_count": 14,
   "metadata": {},
   "outputs": [
    {
     "name": "stdout",
     "output_type": "stream",
     "text": [
      "4\n",
      "3\n",
      "2\n",
      "1\n",
      "Bang\n"
     ]
    }
   ],
   "source": [
    "x = 5\n",
    "while x != 0:\n",
    "    x -= 1\n",
    "    if x != 0:\n",
    "        print(x)\n",
    "    else:\n",
    "        print('Bang')"
   ]
  },
  {
   "cell_type": "markdown",
   "metadata": {},
   "source": [
    "# for 문<br>\n",
    "\n",
    "`for 변수 in 데이터셋` : 데이터셋의 요소 수 만큼 처리를 반복할 수 있다.  \n",
    "\n",
    "`데이터셋` : list형이나 dic형 처럼 복수의 요소를 가진 것을 의미. 여기서는 for문에 list형을 사용. dic형은 dic형의 루프에서 다룸  "
   ]
  },
  {
   "cell_type": "code",
   "execution_count": 16,
   "metadata": {},
   "outputs": [
    {
     "name": "stdout",
     "output_type": "stream",
     "text": [
      "1\n",
      "2\n",
      "3\n",
      "4\n"
     ]
    }
   ],
   "source": [
    "storages = [1, 2, 3, 4]\n",
    "\n",
    "# for 문으로 변수 storages의 요소를 출력하세요\n",
    "for n in storages:\n",
    "    print(n)\n"
   ]
  },
  {
   "cell_type": "markdown",
   "metadata": {},
   "source": [
    "### break<br>\n",
    "\n",
    "`break`를 사용해서 반복 처리를 종료 가능 (if 문과 함께 사용되는 경우가 많다)"
   ]
  },
  {
   "cell_type": "code",
   "execution_count": 33,
   "metadata": {},
   "outputs": [
    {
     "name": "stdout",
     "output_type": "stream",
     "text": [
      "1\n",
      "다음\n",
      "2\n",
      "다음\n",
      "3\n",
      "다음\n",
      "4\n",
      "4 입니다\n"
     ]
    }
   ],
   "source": [
    "storages = [1, 2, 3, 4, 5, 6]\n",
    "\n",
    "for n in storages:\n",
    "    print(n)\n",
    "    # 변수 n의 값이 4일 때 처리를 종료하세요\n",
    "    if n == 4:\n",
    "        print('4 입니다')\n",
    "        break;\n",
    "    print('다음')"
   ]
  },
  {
   "cell_type": "markdown",
   "metadata": {},
   "source": [
    "### continue<br>\n",
    "\n",
    "`continue` break와 달리 특정 조건일 때 루프를 한번 건너 뜀"
   ]
  },
  {
   "cell_type": "code",
   "execution_count": 37,
   "metadata": {},
   "outputs": [
    {
     "name": "stdout",
     "output_type": "stream",
     "text": [
      "1\n",
      "해당 값은 생략\n",
      "3\n",
      "해당 값은 생략\n",
      "5\n",
      "해당 값은 생략\n"
     ]
    }
   ],
   "source": [
    "storages = [1, 2, 3, 4, 5, 6]\n",
    "\n",
    "for n in storages:\n",
    "    # 변수 n이 2의 배수일 때만 처리를 생략하세요\n",
    "    if n % 2 == 0:\n",
    "        print('해당 값은 생략')\n",
    "        continue\n",
    "    print(n)"
   ]
  },
  {
   "cell_type": "markdown",
   "metadata": {},
   "source": [
    "## 추가 설명<br>\n",
    "### for 문에서 index 표시<br>\n",
    "\n",
    "`enumerate()` 함수 사용시 인덱스가 포함된 요소를 얻을 수 있다."
   ]
  },
  {
   "cell_type": "code",
   "execution_count": 67,
   "metadata": {},
   "outputs": [
    {
     "name": "stdout",
     "output_type": "stream",
     "text": [
      "index: 0 tiger\n",
      "index: 0, animal: tiger\n",
      "- 다음 -\n",
      "index: 1 dog\n",
      "index: 1, animal: dog\n",
      "- 다음 -\n",
      "index: 2 elephant\n",
      "index: 2, animal: elephant\n",
      "= 끝 =\n"
     ]
    }
   ],
   "source": [
    "animals = [\"tiger\", \"dog\", \"elephant\"]\n",
    "\n",
    "# enumerate() 함수를 이용하여 출력하세요\n",
    "for index, animal in enumerate(animals):\n",
    "    print(\"index: \" + str(index), animal)\n",
    "    print(f'index: {index}, animal: {animal}')\n",
    "    if animal != 'elephant':\n",
    "        print('- 다음 -')\n",
    "    else:\n",
    "        print('= 끝 =')"
   ]
  },
  {
   "cell_type": "markdown",
   "metadata": {},
   "source": [
    "### List 안의 List 루프<br>\n",
    "\n",
    "리스트의 요소가 리스트형일 경우, 그 내용을 for 문으로 꺼낼 수 있다.  \n",
    "\n",
    "`for a, b, c, ... in 변수(list형)` a, b, c, ...의 개수는 리스트의 요소 수와 같아야 한다."
   ]
  },
  {
   "cell_type": "code",
   "execution_count": 75,
   "metadata": {},
   "outputs": [
    {
     "name": "stdout",
     "output_type": "stream",
     "text": [
      "1 2 3\n",
      "a는 1, b는 2, c는 3\n",
      "4 5 6\n",
      "a는 4, b는 5, c는 6\n"
     ]
    }
   ],
   "source": [
    "list = [[1, 2, 3],\n",
    "        [4, 5, 6]]\n",
    "for a, b, c in list:\n",
    "    print(a, b, c)\n",
    "    print(f'a는 {a}, b는 {b}, c는 {c}')"
   ]
  },
  {
   "cell_type": "markdown",
   "metadata": {},
   "source": [
    "for 문을 사용하여 다음을 출력하는 코드를 작성  \n",
    "\n",
    "- strawberry is red  \n",
    "- peach is pink  \n",
    "- banana is yellow  "
   ]
  },
  {
   "cell_type": "code",
   "execution_count": 87,
   "metadata": {},
   "outputs": [
    {
     "name": "stdout",
     "output_type": "stream",
     "text": [
      "strawberry is red\n",
      "strawberry is red\n",
      "strawberry is red\n",
      "peach is pink\n",
      "peach is pink\n",
      "peach is pink\n",
      "banana is yellow\n",
      "banana is yellow\n",
      "banana is yellow\n"
     ]
    }
   ],
   "source": [
    "fruits = [['strawberry', 'red'],['peach', 'pink'], ['banana', 'yellow']]\n",
    "\n",
    "# for 문을 사용해서 출력\n",
    "for fruit, color in fruits:\n",
    "    print(f'{fruit} is {color}')\n",
    "    print(fruit, 'is', color)\n",
    "    print(fruit + ' is ' + color)\n",
    "    "
   ]
  },
  {
   "cell_type": "markdown",
   "metadata": {},
   "source": [
    "### Dictionary형의 루프<br>\n",
    "\n",
    "키와 값을 모두 변수로 하여 반복할 수 있다.  \n",
    "\n",
    "`item()`을 사용하여 `for key의_변수명, value의_변수명 in 변수(딕셔너리형).items():` 로 기술한다."
   ]
  },
  {
   "cell_type": "code",
   "execution_count": 100,
   "metadata": {},
   "outputs": [
    {
     "name": "stdout",
     "output_type": "stream",
     "text": [
      "아이치 Nagoya\n",
      "Nagoya, 아이치\n",
      "카나가와 Yokohama\n",
      "Yokohama, 카나가와\n",
      "홋카이도 Sapporo\n",
      "Sapporo, 홋카이도\n"
     ]
    }
   ],
   "source": [
    "town = {\"아이치\": \"Nagoya\", \"카나가와\": \"Yokohama\", \"홋카이도\":\n",
    "\"Sapporo\"}\n",
    "\n",
    "# for 문을 사용하여 출력하세요\n",
    "for prefecture, capital in town.items():\n",
    "    print(prefecture, capital)\n",
    "    print('{1}, {0}'.format(prefecture, capital))"
   ]
  },
  {
   "cell_type": "markdown",
   "metadata": {},
   "source": [
    "##### 상품의 가격과 개수, 지불 금액과 거스름돈을 표시하는 프로그램을 작성하세요.<br>\n",
    "\n",
    "- 변수 items를 for문으로 루프시킵니다. 변수는 item으로 합니다.  \n",
    "\n",
    "- for 문의 처리  \n",
    "    \n",
    "    - 'ㅁ은(는) 한 개에 ㅁ원이며, ㅁ개 구입합니다.' 라고 출력.  \n",
    "    - 변수 total_price 에 가격 X 수량을 더해서 저장.  \n",
    "\n",
    "- '지불해야 할 금액은 ㅁ원 입니다.' 라고 출력.  \n",
    "\n",
    "- 변수 money에 임의의 값을 대입.  \n",
    "\n",
    "- money > total_price 일 때는 '거스름돈 ㅁ원입니다.' 라고 출력.  \n",
    "\n",
    "- money == total_price 일 때는 '거스름돈은 없습니다.' 라고 출력.  \n",
    "\n",
    "- money < total_price 일 때는 '돈이 부족합니다.' 라고 출력.  \n"
   ]
  },
  {
   "cell_type": "code",
   "execution_count": 120,
   "metadata": {},
   "outputs": [
    {
     "name": "stdout",
     "output_type": "stream",
     "text": [
      "지우개은(는) 한 개에 100원이며, 2 개 구입합니다.\n",
      "펜은(는) 한 개에 200원이며, 3 개 구입합니다.\n",
      "노트은(는) 한 개에 400원이며, 5 개 구입합니다.\n",
      "지불해야 할 금액은 2800원 입니다.\n",
      "돈이 800원 부족합니다\n"
     ]
    }
   ],
   "source": [
    "items = {\"지우개\": [100, 2], \"펜\": [200, 3], \"노트\": [400,5]}\n",
    "total_price = 0\n",
    "\n",
    "# items 를 for 문으로 루프\n",
    "for item in items:\n",
    "    # 'ㅁ은(는) 한 개에 ㅁ원이며, ㅁ개 구입합니다.' 라고 출력.\n",
    "    print(item + '은(는) 한 개에 ' + str(items[item][0]) + '원이며, ' + str(items[item][1]) + ' 개 구입합니다.')\n",
    "    # 변수 total_price 에 가격 X 수량을 더해서 저장.\n",
    "    total_price += items[item][0] * items[item][1]\n",
    "# '지불해야 할 금액은 ㅁ원 입니다.' 라고 출력.\n",
    "print(f'지불해야 할 금액은 {total_price}원 입니다.')\n",
    "# 변수 money에 임의의 값을 대입.\n",
    "money = 2000\n",
    "# money > total_price 일 때는 '거스름돈 ㅁ원입니다.' 라고 출력.\n",
    "if money > total_price:\n",
    "    print(f'거스름돈은 {money - total_price}원 입니다.')\n",
    "# money == total_price 일 때는 '거스름돈은 없습니다.' 라고 출력.\n",
    "elif money == total_price:\n",
    "    print('거스름돈은 없습니다.')\n",
    "# money < total_price 일 때는 '돈이 부족합니다.' 라고 출력.\n",
    "else:\n",
    "    print(f'돈이 {total_price - money}원 부족합니다')"
   ]
  }
 ],
 "metadata": {
  "kernelspec": {
   "display_name": "Python 3",
   "language": "python",
   "name": "python3"
  },
  "language_info": {
   "codemirror_mode": {
    "name": "ipython",
    "version": 3
   },
   "file_extension": ".py",
   "mimetype": "text/x-python",
   "name": "python",
   "nbconvert_exporter": "python",
   "pygments_lexer": "ipython3",
   "version": "3.7.6"
  }
 },
 "nbformat": 4,
 "nbformat_minor": 4
}
