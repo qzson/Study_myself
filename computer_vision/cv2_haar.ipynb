{
 "cells": [
  {
   "cell_type": "markdown",
   "metadata": {},
   "source": [
    "## 2. Haar 방식 얼굴, 눈 식별<br>\n",
    "### (Face, eye Detection)<br>\n",
    "object detection  \n",
    "\n",
    "### Haar-cascade detection 이란?"
   ]
  },
  {
   "cell_type": "markdown",
   "metadata": {},
   "source": [
    "1. Object Detection (기본적인 방식)  \n",
    "2. Deep Neural Networks (DNN module)  \n",
    "\n",
    "    당연히 DNN 모델이 정확도를 갖고 있다.  \n",
    "    나중에 졸음방지 등을 할 때에, 1과 2를 융합해서 사용하면 퍼포먼스가 훨씬 좋을 수 있다.\n",
    "\n",
    "1_1. Cascade Classifier  \n",
    "- Haar cascade object detection  \n",
    ": CNN 와 비슷한 컨셉을 갖고 있으나 다른 방법으로 빠르게 인식하는 방식  \n",
    ": (장점) 굉장히 빠르게 오브젝트를 인식 해준다. 심플, 가볍다  \n",
    ": (단점) 정확도가 CNN보다 떨어진다. : 예외상황에 인식률이 현저하게 떨어진다. - 그래서 둘다 조합해서 사용한다.  \n",
    ": 미리 정해준 방식에 의해서 인식을 하는 것 (DNN과의 차이는 Train의 차이)  \n"
   ]
  },
  {
   "cell_type": "markdown",
   "metadata": {},
   "source": [
    "## 2-2. Haar 방식을 이용한 Face Dectection"
   ]
  },
  {
   "cell_type": "code",
   "execution_count": 1,
   "metadata": {},
   "outputs": [
    {
     "name": "stdout",
     "output_type": "stream",
     "text": [
      "OpenCV version : 4.3.0\n"
     ]
    }
   ],
   "source": [
    "import cv2\n",
    "import numpy as np\n",
    "\n",
    "def detectAndDisplay(frame):\n",
    "    frame_gray = cv2.cvtColor(frame, cv2.COLOR_BGR2GRAY)\n",
    "    frame_gray = cv2.equalizeHist(frame_gray)\n",
    "    #-- Detect faces\n",
    "    faces = face_cascade.detectMultiScale(frame_gray)\n",
    "    for (x,y,w,h) in faces:\n",
    "        center = (x + w//2, y + h//2)   # 얼굴이 베이스면 그 중간\n",
    "        frame = cv2.rectangle(frame, (x, y), (x+w, y+h), (0, 255, 0), 4)\n",
    "        faceROI = frame_gray[y:y+h, x:x+w]  # 금방 선택한 얼굴만 끄집어 낸다\n",
    "        #-- In each face, detect eyes\n",
    "        eyes = eyes_cascade.detectMultiScale(faceROI)\n",
    "        for (x2,y2,w2,h2) in eyes:\n",
    "            eye_center = (x + x2 + w2//2, y + y2 + h2//2)\n",
    "            radius = int(round((w2 + h2)*0.25))\n",
    "            frame = cv2.circle(frame, eye_center, radius, (255, 0, 0), 4)\n",
    "        cv2.imshow('Capture - Face detection', frame)\n",
    "\n",
    "print('OpenCV version :', cv2.__version__)"
   ]
  },
  {
   "cell_type": "code",
   "execution_count": 2,
   "metadata": {},
   "outputs": [
    {
     "name": "stdout",
     "output_type": "stream",
     "text": [
      "w : 1024 pixels\n",
      "h : 799 pixels\n",
      "ch : 3 \n"
     ]
    }
   ],
   "source": [
    "img = cv2.imread('./source/opencv_dnn_202005/image/marathon_01.jpg')\n",
    "print('w : {} pixels'.format(img.shape[1]))\n",
    "print('h : {} pixels'.format(img.shape[0]))\n",
    "print('ch : {} '.format(img.shape[2]))\n",
    "\n",
    "(height, width) = img.shape[:2]\n",
    "\n",
    "cv2.imshow('Original Image', img)\n",
    "\n",
    "face_cascade_name = './source/ai_cv/haarcascades/haarcascade_frontalface_alt.xml'\n",
    "eyes_cascade_name = './source/ai_cv/haarcascades/haarcascade_eye_tree_eyeglasses.xml'\n",
    "\n",
    "face_cascade = cv2.CascadeClassifier()\n",
    "eyes_cascade = cv2.CascadeClassifier()\n",
    "\n",
    "#-- 1. Load the cascades\n",
    "if not face_cascade.load(cv2.samples.findFile(face_cascade_name)):\n",
    "    print('--(!)Error loading face cascade')\n",
    "    exit(0)\n",
    "if not eyes_cascade.load(cv2.samples.findFile(eyes_cascade_name)):\n",
    "    print('--(!)Error loading eyes cascade')\n",
    "    exit(0)\n",
    "    \n",
    "detectAndDisplay(img)\n",
    "\n",
    "cv2.waitKey(0)\n",
    "cv2.destroyAllWindows()"
   ]
  },
  {
   "cell_type": "markdown",
   "metadata": {},
   "source": [
    "## 2-3. Haar 방식 Face Detection GUI 프로그램<br>\n",
    "pip install Pillow"
   ]
  },
  {
   "cell_type": "code",
   "execution_count": 4,
   "metadata": {},
   "outputs": [],
   "source": [
    "import cv2\n",
    "import numpy as np\n",
    "from tkinter import *\n",
    "from PIL import Image\n",
    "from PIL import ImageTk\n",
    "from tkinter import filedialog\n",
    "\n",
    "face_cascade_name = './source/ai_cv/haarcascades/haarcascade_frontalface_alt.xml'\n",
    "eyes_cascade_name = './source/ai_cv/haarcascades/haarcascade_eye_tree_eyeglasses.xml'\n",
    "file_name = './source/opencv_dnn_202005/image/marathon_01.jpg'\n",
    "title_name = 'Haar cascade object detection'\n",
    "frame_width = 500     # size를 크게하면, 인식률이 좋아진다.\n",
    "\n",
    "# 함수1\n",
    "def selectFile():\n",
    "    file_name = filedialog.askopenfilename(initialdir = './source/opencv_dnn_202005/image', title = 'Select file', filetypes = (('jpeg files','*.jpg'),('all files','*.*')))\n",
    "    print('File name : ', file_name)\n",
    "    read_image = cv2.imread(file_name)\n",
    "    (height, width) = read_image.shape[:2]\n",
    "    frameSize = int(sizeSpin.get())\n",
    "    ratio = frameSize / width\n",
    "    dimension = (frameSize, int(height * ratio))\n",
    "    read_image = cv2.resize(read_image, dimension, interpolation = cv2.INTER_AREA)\n",
    "    image = cv2.cvtColor(read_image, cv2.COLOR_BGR2RGB)\n",
    "    image = Image.fromarray(image)\n",
    "    imgtk = ImageTk.PhotoImage(image=image)\n",
    "    detectAndDisplay(read_image)\n",
    "    \n",
    "# 함수2\n",
    "def detectAndDisplay(frame):\n",
    "    frame_gray = cv2.cvtColor(frame, cv2.COLOR_BGR2GRAY)\n",
    "    frame_gray = cv2.equalizeHist(frame_gray)\n",
    "    #-- Detect faces\n",
    "    faces = face_cascade.detectMultiScale(frame_gray)\n",
    "    for (x,y,w,h) in faces:\n",
    "        center = (x + w//2, y + h//2)   # 얼굴이 베이스면 그 중간\n",
    "        frame = cv2.rectangle(frame, (x, y), (x+w, y+h), (0, 255, 0), 4)\n",
    "        faceROI = frame_gray[y:y+h, x:x+w]  # 금방 선택한 얼굴만 끄집어 낸다\n",
    "        #-- In each face, detect eyes\n",
    "        eyes = eyes_cascade.detectMultiScale(faceROI)\n",
    "        for (x2,y2,w2,h2) in eyes:\n",
    "            eye_center = (x + x2 + w2//2, y + y2 + h2//2)\n",
    "            radius = int(round((w2 + h2)*0.25))\n",
    "            frame = cv2.circle(frame, eye_center, radius, (255, 0, 0), 4)\n",
    "    # cv2.imshow('Capture - Face detection', frame)\n",
    "    image = cv2.cvtColor(frame, cv2.COLOR_BGR2RGB)\n",
    "    image = Image.fromarray(image)\n",
    "    imgtk = ImageTk.PhotoImage(image=image)\n",
    "    detection.config(image=imgtk)\n",
    "    detection.image = imgtk\n",
    "\n",
    "# main\n",
    "main = Tk()\n",
    "main.title(title_name)\n",
    "main.geometry()\n",
    "        \n",
    "# 이미지 불러오기\n",
    "read_image = cv2.imread('./source/opencv_dnn_202005/image/marathon_01.jpg')\n",
    "(height, width) = read_image.shape[:2]\n",
    "\n",
    "# 이미지 리사이즈\n",
    "ratio = frame_width / width\n",
    "dimension = (frame_width, int(height * ratio))\n",
    "read_image = cv2.resize(read_image, dimension, interpolation = cv2.INTER_AREA)\n",
    "\n",
    "# 이미지 RGB화 (안하면 색이 이상하게 나온다)\n",
    "image = cv2.cvtColor(read_image, cv2.COLOR_BGR2RGB)\n",
    "image = Image.fromarray(image)\n",
    "imgtk = ImageTk.PhotoImage(image=image)  # 바로 보여주는 것이 아니고, tkinter에 pillow 보여주기 위해\n",
    "\n",
    "face_cascade_name = './source/ai_cv/haarcascades/haarcascade_frontalface_alt.xml'\n",
    "eyes_cascade_name = './source/ai_cv/haarcascades/haarcascade_eye_tree_eyeglasses.xml'\n",
    "\n",
    "face_cascade = cv2.CascadeClassifier()\n",
    "eyes_cascade = cv2.CascadeClassifier()\n",
    "\n",
    "#-- 1. Load the cascades\n",
    "if not face_cascade.load(cv2.samples.findFile(face_cascade_name)):\n",
    "    print('--(!)Error loading face cascade')\n",
    "    exit(0)\n",
    "if not eyes_cascade.load(cv2.samples.findFile(eyes_cascade_name)):\n",
    "    print('--(!)Error loading eyes cascade')\n",
    "    exit(0)\n",
    "\n",
    "label=Label(main, text=title_name)\n",
    "label.config(font=(\"Courier\", 18))\n",
    "label.grid(row=0,column=0,columnspan=4)\n",
    "sizeLabel=Label(main, text='Frame Width : ')                \n",
    "sizeLabel.grid(row=1,column=0)\n",
    "sizeVal  = IntVar(value=frame_width)\n",
    "sizeSpin = Spinbox(main, textvariable=sizeVal,from_=0, to=2000, increment=100, justify=RIGHT)\n",
    "sizeSpin.grid(row=1, column=1)\n",
    "Button(main,text=\"File Select\", height=2,command=lambda:selectFile()).grid(row=1, column=2, columnspan=2, sticky=(W, E))\n",
    "detection=Label(main, image=imgtk)\n",
    "detection.grid(row=2,column=0,columnspan=4)\n",
    "detectAndDisplay(read_image)\n",
    "\n",
    "main.mainloop()"
   ]
  },
  {
   "cell_type": "code",
   "execution_count": null,
   "metadata": {},
   "outputs": [],
   "source": []
  }
 ],
 "metadata": {
  "kernelspec": {
   "display_name": "Python 3",
   "language": "python",
   "name": "python3"
  },
  "language_info": {
   "codemirror_mode": {
    "name": "ipython",
    "version": 3
   },
   "file_extension": ".py",
   "mimetype": "text/x-python",
   "name": "python",
   "nbconvert_exporter": "python",
   "pygments_lexer": "ipython3",
   "version": "3.7.6"
  }
 },
 "nbformat": 4,
 "nbformat_minor": 4
}
